{
 "cells": [
  {
   "cell_type": "code",
   "execution_count": 1,
   "metadata": {},
   "outputs": [],
   "source": [
    "import psycopg2 as psy\n",
    "from config import config"
   ]
  },
  {
   "cell_type": "code",
   "execution_count": 29,
   "metadata": {},
   "outputs": [],
   "source": [
    "db = 'idtest2'\n",
    "table = 'dummy21'"
   ]
  },
  {
   "cell_type": "code",
   "execution_count": 30,
   "metadata": {},
   "outputs": [
    {
     "name": "stdout",
     "output_type": "stream",
     "text": [
      "Connected to the PostgreSQL server.\n"
     ]
    },
    {
     "data": {
      "text/plain": [
       "<connection object at 0x7fb8c4859e40; dsn: 'user=postgres password=xxx host=localhost port=5430', closed: 0>"
      ]
     },
     "execution_count": 30,
     "metadata": {},
     "output_type": "execute_result"
    }
   ],
   "source": [
    "def connectTest():\n",
    "    \n",
    "\n",
    "    \"\"\" Connect to the PostgreSQL database server \"\"\"\n",
    "    try:\n",
    "        # connecting to the PostgreSQL server\n",
    "        with psy.connect(**config()) as conn:\n",
    "            print('Connected to the PostgreSQL server.')\n",
    "            return conn\n",
    "    except (psy.DatabaseError, Exception) as error:\n",
    "        print(error)\n",
    "\n",
    "connectTest()"
   ]
  },
  {
   "cell_type": "code",
   "execution_count": 33,
   "metadata": {},
   "outputs": [
    {
     "name": "stdout",
     "output_type": "stream",
     "text": [
      "Connected to the PostgreSQL server\n",
      "PostgreSQL database version: ('PostgreSQL 16.6 (Debian 16.6-1.pgdg120+1) on x86_64-pc-linux-gnu, compiled by gcc (Debian 12.2.0-14) 12.2.0, 64-bit',)\n",
      "DB exists\n",
      "Connection closed\n"
     ]
    }
   ],
   "source": [
    "def connect_Create_db():\n",
    "    conn = None\n",
    "    try:\n",
    "        conn = psy.connect(**config())\n",
    "        conn.autocommit = True\n",
    "        print(\"Connected to the PostgreSQL server\")\n",
    "\n",
    "        crsr = conn.cursor()\n",
    "        crsr.execute('SELECT version()')\n",
    "        db_version = crsr.fetchone()\n",
    "        #crsr.close()\n",
    "        print(f\"PostgreSQL database version: {db_version}\")\n",
    "\n",
    "        dbname = db\n",
    "        #crsr.execute('CREATE DATABASE pycreatetest ;')\n",
    "        #crsr.execute('SELECT datname FROM pg_database WHERE datistemplate = false;')\n",
    "        crsr.execute(f\"SELECT datname FROM pg_database WHERE datname = '{dbname}'\")\n",
    "        tables = crsr.fetchall()\n",
    "        #print(len(tables))\n",
    "        if len(tables) == 0:\n",
    "            crsr.execute(f'CREATE DATABASE {dbname}')\n",
    "            print('DB created')\n",
    "\n",
    "        else:\n",
    "            print('DB exists')\n",
    "        crsr.close()\n",
    "\n",
    "    except(Exception, psy.DatabaseError) as error:\n",
    "        print(error)\n",
    "\n",
    "    finally:\n",
    "        if conn != None:\n",
    "            conn.close()\n",
    "            print(\"Connection closed\")\n",
    "\n",
    "connect_Create_db()"
   ]
  },
  {
   "cell_type": "code",
   "execution_count": 34,
   "metadata": {},
   "outputs": [
    {
     "name": "stdout",
     "output_type": "stream",
     "text": [
      "True\n",
      "Table exists\n"
     ]
    }
   ],
   "source": [
    "def create_table():\n",
    "    '''\n",
    "    Create postgres table to store images and data\n",
    "    '''\n",
    "    try:\n",
    "        conn = psy.connect(**config(),database=db) #Hardcoded database choice, can be moved to ini later\n",
    "        conn.autocommit = True\n",
    "        crsr = conn.cursor()\n",
    "\n",
    "        crsr.execute(f'''SELECT EXISTS ( SELECT FROM information_schema.tables WHERE table_name = '{table}');''')\n",
    "        \n",
    "        exists = bool(crsr.fetchone()[0])\n",
    "        print(exists)\n",
    "        if (exists == True):\n",
    "            print('Table exists')\n",
    "        else:\n",
    "            crsr.execute(f'''CREATE TABLE {table} (id INT GENERATED ALWAYS AS IDENTITY PRIMARY KEY, image TEXT, label INT, prediction INT, correct BOOL, certainty REAL);''')\n",
    "            print('Table created')\n",
    "        \n",
    "    except(Exception, psy.DatabaseError) as error:\n",
    "        print (error)\n",
    "\n",
    "    finally:\n",
    "        crsr.close()\n",
    "        conn.close()\n",
    "\n",
    "create_table()"
   ]
  }
 ],
 "metadata": {
  "kernelspec": {
   "display_name": "usr",
   "language": "python",
   "name": "python3"
  },
  "language_info": {
   "codemirror_mode": {
    "name": "ipython",
    "version": 3
   },
   "file_extension": ".py",
   "mimetype": "text/x-python",
   "name": "python",
   "nbconvert_exporter": "python",
   "pygments_lexer": "ipython3",
   "version": "3.12.3"
  }
 },
 "nbformat": 4,
 "nbformat_minor": 2
}
