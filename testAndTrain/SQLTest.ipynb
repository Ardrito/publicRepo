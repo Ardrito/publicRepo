{
 "cells": [
  {
   "cell_type": "code",
   "execution_count": 1,
   "metadata": {},
   "outputs": [
    {
     "name": "stderr",
     "output_type": "stream",
     "text": [
      "2025-01-10 16:20:53.276802: I tensorflow/core/util/port.cc:153] oneDNN custom operations are on. You may see slightly different numerical results due to floating-point round-off errors from different computation orders. To turn them off, set the environment variable `TF_ENABLE_ONEDNN_OPTS=0`.\n",
      "2025-01-10 16:20:53.289301: E external/local_xla/xla/stream_executor/cuda/cuda_fft.cc:477] Unable to register cuFFT factory: Attempting to register factory for plugin cuFFT when one has already been registered\n",
      "WARNING: All log messages before absl::InitializeLog() is called are written to STDERR\n",
      "E0000 00:00:1736526053.301919   45832 cuda_dnn.cc:8310] Unable to register cuDNN factory: Attempting to register factory for plugin cuDNN when one has already been registered\n",
      "E0000 00:00:1736526053.305276   45832 cuda_blas.cc:1418] Unable to register cuBLAS factory: Attempting to register factory for plugin cuBLAS when one has already been registered\n",
      "2025-01-10 16:20:53.318977: I tensorflow/core/platform/cpu_feature_guard.cc:210] This TensorFlow binary is optimized to use available CPU instructions in performance-critical operations.\n",
      "To enable the following instructions: AVX2 AVX_VNNI FMA, in other operations, rebuild TensorFlow with the appropriate compiler flags.\n"
     ]
    }
   ],
   "source": [
    "import psycopg2 as psy\n",
    "from psycopg2 import sql\n",
    "\n",
    "#from main import show_img, plot_graph, predict\n",
    "\n",
    "from config import config\n",
    "\n",
    "import numpy as np\n",
    "import tensorflow as tf\n",
    "from tensorflow.keras.datasets import mnist\n",
    "from tensorflow import keras\n",
    "\n",
    "import matplotlib.pyplot as plt\n",
    "import cv2\n",
    "import os"
   ]
  },
  {
   "cell_type": "code",
   "execution_count": 2,
   "metadata": {},
   "outputs": [
    {
     "name": "stderr",
     "output_type": "stream",
     "text": [
      "I0000 00:00:1736526056.839600   45832 gpu_device.cc:2022] Created device /job:localhost/replica:0/task:0/device:GPU:0 with 5465 MB memory:  -> device: 0, name: NVIDIA GeForce RTX 4060 Laptop GPU, pci bus id: 0000:01:00.0, compute capability: 8.9\n"
     ]
    }
   ],
   "source": [
    "model = tf.keras.models.load_model('savedModels/test_model.keras')\n"
   ]
  },
  {
   "cell_type": "code",
   "execution_count": 3,
   "metadata": {},
   "outputs": [
    {
     "name": "stdout",
     "output_type": "stream",
     "text": [
      "Connected to the PostgreSQL server.\n"
     ]
    },
    {
     "data": {
      "text/plain": [
       "<connection object at 0x7f3af591f600; dsn: 'user=postgres password=xxx host=localhost port=5430', closed: 0>"
      ]
     },
     "execution_count": 3,
     "metadata": {},
     "output_type": "execute_result"
    }
   ],
   "source": [
    "def connectTest():\n",
    "    \n",
    "\n",
    "    \"\"\" Connect to the PostgreSQL database server \"\"\"\n",
    "    try:\n",
    "        # connecting to the PostgreSQL server\n",
    "        with psy.connect(**config()) as conn:\n",
    "            print('Connected to the PostgreSQL server.')\n",
    "            return conn\n",
    "    except (psy.DatabaseError, Exception) as error:\n",
    "        print(error)\n",
    "\n",
    "connectTest()"
   ]
  },
  {
   "cell_type": "code",
   "execution_count": null,
   "metadata": {},
   "outputs": [
    {
     "name": "stdout",
     "output_type": "stream",
     "text": [
      "Connected to the PostgreSQL server\n",
      "PostgreSQL database version: ('PostgreSQL 16.6 (Debian 16.6-1.pgdg120+1) on x86_64-pc-linux-gnu, compiled by gcc (Debian 12.2.0-14) 12.2.0, 64-bit',)\n",
      "Connection closed\n"
     ]
    }
   ],
   "source": [
    "def connect_Create_db():\n",
    "    conn = None\n",
    "    try:\n",
    "        conn = psy.connect(**config())\n",
    "        conn.autocommit = True\n",
    "        print(\"Connected to the PostgreSQL server\")\n",
    "\n",
    "        crsr = conn.cursor()\n",
    "        crsr.execute('SELECT version()')\n",
    "        db_version = crsr.fetchone()\n",
    "        #crsr.close()\n",
    "        print(f\"PostgreSQL database version: {db_version}\")\n",
    "\n",
    "        dbname = \"pycreatetest2\"\n",
    "        #crsr.execute('CREATE DATABASE pycreatetest ;')\n",
    "        #crsr.execute('SELECT datname FROM pg_database WHERE datistemplate = false;')\n",
    "        crsr.execute(f\"SELECT datname FROM pg_database WHERE datname = '{dbname}'\")\n",
    "        tables = crsr.fetchall()\n",
    "        #print(len(tables))\n",
    "        if len(tables) == 0:\n",
    "            crsr.execute(f'CREATE DATABASE {dbname}')\n",
    "        crsr.close()\n",
    "\n",
    "    except(Exception, psy.DatabaseError) as error:\n",
    "        print(error)\n",
    "\n",
    "    finally:\n",
    "        if conn != None:\n",
    "            conn.close()\n",
    "            print(\"Connection closed\")\n",
    "\n",
    "connect_Create_db()\n"
   ]
  },
  {
   "cell_type": "code",
   "execution_count": 199,
   "metadata": {},
   "outputs": [
    {
     "name": "stdout",
     "output_type": "stream",
     "text": [
      "relation \"dummy\" already exists\n",
      "\n"
     ]
    }
   ],
   "source": [
    "def create_table():\n",
    "    '''\n",
    "    Create postgres table to store images and data\n",
    "    '''\n",
    "    try:\n",
    "        conn = psy.connect(**config(),database='idtest') #Hardcoded database choice, can be moved to ini later\n",
    "        conn.autocommit = True\n",
    "\n",
    "        crsr = conn.cursor()\n",
    "        crsr.execute('''CREATE TABLE dummy (id INT GENERATED ALWAYS AS IDENTITY PRIMARY KEY, image TEXT, label INT, prediction INT, correct BOOL, certainty REAL);''')\n",
    "        \n",
    "    except(Exception, psy.DatabaseError) as error:\n",
    "        print (error)\n",
    "\n",
    "    finally:\n",
    "        crsr.close()\n",
    "        conn.close()\n",
    "\n",
    "create_table()"
   ]
  },
  {
   "cell_type": "code",
   "execution_count": 75,
   "metadata": {},
   "outputs": [
    {
     "name": "stdout",
     "output_type": "stream",
     "text": [
      "<connection object at 0x7f4a3746f740; dsn: 'user=postgres password=xxx dbname=testdb host=localhost port=5430', closed: 0>\n",
      "[(1, 2), (1, 2), (1, 2)]\n",
      "Connection closed\n"
     ]
    }
   ],
   "source": [
    "def connect():\n",
    "    try:\n",
    "        conn = psy.connect(**config(),database='testdb')\n",
    "        print(conn)\n",
    "        conn.autocommit = True\n",
    "        crsr=conn.cursor()\n",
    "        #crsr.execute(\"CREATE TABLE tableTest (ID INT, Num INT)\")\n",
    "        #crsr.execute(\"INSERT INTO tableTest VALUES (1,2);\")\n",
    "        #print(crsr.fetchall())\n",
    "        crsr.execute(\"SELECT * FROM tableTest\")\n",
    "        print(crsr.fetchall())\n",
    "        crsr.close()\n",
    "    except(Exception, psy.DatabaseError) as error:\n",
    "        print (error)\n",
    "    finally:\n",
    "        if conn != None:\n",
    "            conn.close()\n",
    "            print(\"Connection closed\")\n",
    "\n",
    "connect()\n"
   ]
  },
  {
   "cell_type": "code",
   "execution_count": 173,
   "metadata": {},
   "outputs": [
    {
     "name": "stdout",
     "output_type": "stream",
     "text": [
      "<connection object at 0x7f49b015fd80; dsn: 'user=postgres password=xxx dbname=idtest host=localhost port=5430', closed: 0>\n",
      "Connection closed\n"
     ]
    }
   ],
   "source": [
    "def load_to_postgres(path:str=\"numbers\"):\n",
    "    '''\n",
    "    Load dataset from folder into postgresql table\n",
    "    \n",
    "    Parameters\n",
    "    ----------\n",
    "    \n",
    "    path: (str) path to root folder containing dataset\n",
    "\n",
    "    Returns\n",
    "    ----------\n",
    "    \n",
    "    numbers: (ndarray) (n,24,24) Array of number images\n",
    "    \n",
    "    labels: (ndarray) (n,) Array of labels\n",
    "    \n",
    "    Folder structure\n",
    "    -----------------\n",
    "    \n",
    "    /numbers #root dir\n",
    "        numbers/0\n",
    "            img.jpg\n",
    "            img.jpg\n",
    "            .\n",
    "            .\n",
    "            .\n",
    "        numbers/1   \n",
    "            img.jpg\n",
    "            img.jpg\n",
    "            .\n",
    "            .\n",
    "            .\n",
    "        .\n",
    "        .\n",
    "        .\n",
    "        \n",
    "    numbers folder containing folders with folder name as the label (0 to 9)\n",
    "    Image names within label folders not relevant\n",
    "    '''\n",
    "    try:\n",
    "        conn = psy.connect(**config(),database='idtest')\n",
    "        print(conn)\n",
    "        conn.autocommit = True\n",
    "        crsr=conn.cursor()\n",
    "        for i in range(10):\n",
    "            for dirpath,dirnames,filenames in (os.walk(f\"{path}/{i}\")):\n",
    "                for file in filenames:\n",
    "                    img = cv2.imread(f\"{path}/{i}/{file}\",cv2.IMREAD_GRAYSCALE) \n",
    "                    img = cv2.resize(img,(28,28), interpolation=cv2.INTER_AREA)\n",
    "                    img = (255-img)/255.0\n",
    "                    #img = np.reshape(img,(1,28,28))\n",
    "\n",
    "                    temp_image = np.reshape(img,(-1)) #Image stored as a string (TEXT) of a 1D array in postgres\n",
    "                    \n",
    "                    crsr.execute(f'''INSERT INTO dummy(image, label) VALUES ('{temp_image}',{i})''')\n",
    "        crsr.close()\n",
    "    except(Exception, psy.DatabaseError) as error:\n",
    "        print (error)\n",
    "    finally:\n",
    "        if conn != None:\n",
    "            conn.close()\n",
    "            print(\"Connection closed\")\n",
    "    \n",
    "load_to_postgres()"
   ]
  },
  {
   "cell_type": "code",
   "execution_count": 164,
   "metadata": {},
   "outputs": [],
   "source": [
    "def show_img(i, data, labels):\n",
    "    '''\n",
    "    Show image at index i of array of images\n",
    "    '''\n",
    "    plt.imshow((data)[i], cmap=plt.cm.binary)\n",
    "    \n",
    "    predA = (model.predict(data)[i])\n",
    "    pred = np.argmax(predA)\n",
    "    certainty = round((np.max(predA)*100),2)\n",
    "\n",
    "    if (pred == labels[i]):\n",
    "        color = 'green'\n",
    "    else:\n",
    "        color = 'red'\n",
    "        \n",
    "    plt.xlabel(f\"Pred:{pred} (Actual:{labels[i]})\", color=color)\n",
    "    plt.show()\n",
    "\n",
    "    return(pred, certainty)"
   ]
  },
  {
   "cell_type": "code",
   "execution_count": null,
   "metadata": {},
   "outputs": [],
   "source": [
    "def predict_from_postgres(id):\n",
    "    '''\n",
    "    Predict number & uncertainty, display processed image, from postgres table\n",
    "\n",
    "    Parameters\n",
    "    ----------\n",
    "    id (int): Primary key from postgres table\n",
    "    '''\n",
    "    try:\n",
    "        conn = psy.connect(**config(),database='idtest') #Hardcoded database choice, can be moved to ini later\n",
    "        conn.autocommit = True\n",
    "\n",
    "        crsr = conn.cursor()\n",
    "        crsr.execute(f'''SELECT image FROM dummy WHERE id = {id}''')\n",
    "        data = str(crsr.fetchone()[0])\n",
    "\n",
    "        crsr.execute(f'''SELECT label FROM dummy WHERE id = {id}''')\n",
    "        label = crsr.fetchone()[0]\n",
    "\n",
    "        #Image stored as a string (TEXT) of a 1D array in postgres convert to a np.ndarray\n",
    "        img = (np.fromstring(data.strip('[]'),dtype=float, sep=' '))\n",
    "\n",
    "        img = np.reshape(img, (1,28,28)) #Reshape image as model.predict requires 3D array\n",
    "\n",
    "        prediction, certainty = show_img(0,img,[label])\n",
    "\n",
    "        if (prediction != None) & (prediction == label):\n",
    "            correct = True\n",
    "        elif (prediction != label):\n",
    "            correct = False\n",
    "        \n",
    "        #Update table values\n",
    "        crsr.execute(f'''UPDATE dummy SET prediction = {prediction}, certainty = {certainty}, correct = {correct} WHERE id = {id}''')\n",
    "\n",
    "        \n",
    "\n",
    "    except(Exception, psy.DatabaseError) as error:\n",
    "        print (error)\n",
    "\n",
    "    finally:\n",
    "        crsr.close()\n",
    "        conn.close()\n",
    "\n",
    "for i in range(1,13):\n",
    "    predict_from_postgres(i)\n"
   ]
  },
  {
   "cell_type": "code",
   "execution_count": 8,
   "metadata": {},
   "outputs": [
    {
     "name": "stdout",
     "output_type": "stream",
     "text": [
      "[19]\n"
     ]
    }
   ],
   "source": [
    "#print sorted list of ids where predictions are correct\n",
    "\n",
    "import operator\n",
    "conn = psy.connect(**config(),database='idtest') #Hardcoded database choice, can be moved to ini later\n",
    "conn.autocommit = True\n",
    "\n",
    "\n",
    "\n",
    "crsr = conn.cursor()\n",
    "\n",
    "crsr.execute('''SELECT id FROM dummy WHERE correct IS NULL OR label IS NULL''')\n",
    "x = crsr.fetchall()\n",
    "crsr.close()\n",
    "conn.close()\n",
    "print(sorted(list(map(operator.itemgetter(0), x))))"
   ]
  }
 ],
 "metadata": {
  "kernelspec": {
   "display_name": "usr",
   "language": "python",
   "name": "python3"
  },
  "language_info": {
   "codemirror_mode": {
    "name": "ipython",
    "version": 3
   },
   "file_extension": ".py",
   "mimetype": "text/x-python",
   "name": "python",
   "nbconvert_exporter": "python",
   "pygments_lexer": "ipython3",
   "version": "3.12.3"
  }
 },
 "nbformat": 4,
 "nbformat_minor": 2
}
