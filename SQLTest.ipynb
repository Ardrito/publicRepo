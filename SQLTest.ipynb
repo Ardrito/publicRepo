{
 "cells": [
  {
   "cell_type": "code",
   "execution_count": 39,
   "metadata": {},
   "outputs": [],
   "source": [
    "import psycopg2 as psy\n",
    "from psycopg2 import sql\n",
    "\n",
    "from config import config"
   ]
  },
  {
   "cell_type": "code",
   "execution_count": 30,
   "metadata": {},
   "outputs": [
    {
     "name": "stdout",
     "output_type": "stream",
     "text": [
      "Connected to the PostgreSQL server.\n"
     ]
    },
    {
     "data": {
      "text/plain": [
       "<connection object at 0x7eff85d0efc0; dsn: 'user=postgres password=xxx dbname=dummy host=localhost', closed: 0>"
      ]
     },
     "execution_count": 30,
     "metadata": {},
     "output_type": "execute_result"
    }
   ],
   "source": [
    "def connectTest():\n",
    "    \n",
    "\n",
    "    \"\"\" Connect to the PostgreSQL database server \"\"\"\n",
    "    try:\n",
    "        # connecting to the PostgreSQL server\n",
    "        with psy.connect(**config()) as conn:\n",
    "            print('Connected to the PostgreSQL server.')\n",
    "            return conn\n",
    "    except (psy.DatabaseError, Exception) as error:\n",
    "        print(error)\n",
    "\n",
    "connectTest()"
   ]
  },
  {
   "cell_type": "code",
   "execution_count": 66,
   "metadata": {},
   "outputs": [
    {
     "name": "stdout",
     "output_type": "stream",
     "text": [
      "Connected to the PostgreSQL server\n",
      "PostgreSQL database version: ('PostgreSQL 16.6 (Debian 16.6-1.pgdg120+1) on x86_64-pc-linux-gnu, compiled by gcc (Debian 12.2.0-14) 12.2.0, 64-bit',)\n",
      "Connection closed\n"
     ]
    }
   ],
   "source": [
    "def connect_Create_db():\n",
    "    conn = None\n",
    "    try:\n",
    "        conn = psy.connect(**config())\n",
    "        conn.autocommit = True\n",
    "        print(\"Connected to the PostgreSQL server\")\n",
    "\n",
    "        crsr = conn.cursor()\n",
    "        crsr.execute('SELECT version()')\n",
    "        db_version = crsr.fetchone()\n",
    "        #crsr.close()\n",
    "        print(f\"PostgreSQL database version: {db_version}\")\n",
    "\n",
    "        dbname = \"pycreatetest2\"\n",
    "        #crsr.execute('CREATE DATABASE pycreatetest ;')\n",
    "        #crsr.execute('SELECT datname FROM pg_database WHERE datistemplate = false;')\n",
    "        crsr.execute(f\"SELECT datname FROM pg_database WHERE datname = '{dbname}'\")\n",
    "        tables = crsr.fetchall()\n",
    "        #print(len(tables))\n",
    "        if len(tables) == 0:\n",
    "            crsr.execute(f'CREATE DATABASE {dbname}')\n",
    "        crsr.close()\n",
    "\n",
    "    except(Exception, psy.DatabaseError) as error:\n",
    "        print(error)\n",
    "\n",
    "    finally:\n",
    "        if conn != None:\n",
    "            conn.close()\n",
    "            print(\"Connection closed\")\n",
    "\n",
    "connect_Create_db()\n"
   ]
  },
  {
   "cell_type": "code",
   "execution_count": null,
   "metadata": {},
   "outputs": [
    {
     "name": "stdout",
     "output_type": "stream",
     "text": [
      "[(1, 2), (1, 2), (1, 2)]\n",
      "Connection closed\n"
     ]
    }
   ],
   "source": [
    "def connect():\n",
    "    try:\n",
    "        conn = psy.connect(**config(),database='testdb')\n",
    "        conn.autocommit = True\n",
    "        crsr=conn.cursor()\n",
    "        #crsr.execute(\"CREATE TABLE tableTest (ID INT, Num INT)\")\n",
    "        #crsr.execute(\"INSERT INTO tableTest VALUES (1,2);\")\n",
    "        #print(crsr.fetchall())\n",
    "        crsr.execute(\"SELECT * FROM tableTest\")\n",
    "        print(crsr.fetchall())\n",
    "        crsr.close()\n",
    "    except(Exception, psy.DatabaseError) as error:\n",
    "        print (error)\n",
    "    finally:\n",
    "        if conn != None:\n",
    "            conn.close()\n",
    "            print(\"Connection closed\")\n",
    "\n",
    "connect()\n"
   ]
  }
 ],
 "metadata": {
  "kernelspec": {
   "display_name": "Python 3",
   "language": "python",
   "name": "python3"
  },
  "language_info": {
   "codemirror_mode": {
    "name": "ipython",
    "version": 3
   },
   "file_extension": ".py",
   "mimetype": "text/x-python",
   "name": "python",
   "nbconvert_exporter": "python",
   "pygments_lexer": "ipython3",
   "version": "3.12.3"
  }
 },
 "nbformat": 4,
 "nbformat_minor": 2
}
