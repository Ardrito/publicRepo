{
 "cells": [
  {
   "cell_type": "code",
   "execution_count": 29,
   "metadata": {},
   "outputs": [],
   "source": [
    "import psycopg2 as psy\n",
    "\n",
    "from config import config"
   ]
  },
  {
   "cell_type": "code",
   "execution_count": 30,
   "metadata": {},
   "outputs": [
    {
     "name": "stdout",
     "output_type": "stream",
     "text": [
      "Connected to the PostgreSQL server.\n"
     ]
    },
    {
     "data": {
      "text/plain": [
       "<connection object at 0x7eff85d0efc0; dsn: 'user=postgres password=xxx dbname=dummy host=localhost', closed: 0>"
      ]
     },
     "execution_count": 30,
     "metadata": {},
     "output_type": "execute_result"
    }
   ],
   "source": [
    "def connectTest():\n",
    "    \n",
    "\n",
    "    \"\"\" Connect to the PostgreSQL database server \"\"\"\n",
    "    try:\n",
    "        # connecting to the PostgreSQL server\n",
    "        with psy.connect(**config()) as conn:\n",
    "            print('Connected to the PostgreSQL server.')\n",
    "            return conn\n",
    "    except (psy.DatabaseError, Exception) as error:\n",
    "        print(error)\n",
    "\n",
    "connectTest()"
   ]
  },
  {
   "cell_type": "code",
   "execution_count": 31,
   "metadata": {},
   "outputs": [
    {
     "name": "stdout",
     "output_type": "stream",
     "text": [
      "Connected to the PostgreSQL server\n",
      "PostgreSQL database version: ('PostgreSQL 16.6 (Ubuntu 16.6-0ubuntu0.24.04.1) on x86_64-pc-linux-gnu, compiled by gcc (Ubuntu 13.2.0-23ubuntu4) 13.2.0, 64-bit',)\n",
      "Connection closed\n"
     ]
    }
   ],
   "source": [
    "def connect():\n",
    "    conn = None\n",
    "    try:\n",
    "        conn = psy.connect(**config())\n",
    "        print(\"Connected to the PostgreSQL server\")\n",
    "\n",
    "        crsr = conn.cursor()\n",
    "        crsr.execute('SELECT version()')\n",
    "        db_version = crsr.fetchone()\n",
    "        crsr.close()\n",
    "        print(f\"PostgreSQL database version: {db_version}\")\n",
    "\n",
    "    except(Exception, psy.DatabaseError) as error:\n",
    "        print(error)\n",
    "\n",
    "    finally:\n",
    "        if conn != None:\n",
    "            conn.close()\n",
    "            print(\"Connection closed\")\n",
    "\n",
    "connect()\n"
   ]
  }
 ],
 "metadata": {
  "kernelspec": {
   "display_name": "Python 3",
   "language": "python",
   "name": "python3"
  },
  "language_info": {
   "codemirror_mode": {
    "name": "ipython",
    "version": 3
   },
   "file_extension": ".py",
   "mimetype": "text/x-python",
   "name": "python",
   "nbconvert_exporter": "python",
   "pygments_lexer": "ipython3",
   "version": "3.12.3"
  }
 },
 "nbformat": 4,
 "nbformat_minor": 2
}
